{
 "cells": [
  {
   "cell_type": "code",
   "execution_count": null,
   "id": "cf34fac3",
   "metadata": {},
   "outputs": [
    {
     "name": "stdout",
     "output_type": "stream",
     "text": [
      "Vertex degrees:\n",
      "A: 2\n",
      "B: 3\n",
      "C: 2\n",
      "D: 1\n",
      "Vertices sorted by degree:\n",
      "D\n",
      "A\n",
      "C\n",
      "B\n",
      "{'A': 2, 'B': 3, 'C': 2, 'D': 1}\n"
     ]
    }
   ],
   "source": [
    "\"\"\"Write a code to find the degree of each vertex, and store it in a dictionary.\n",
    " Sort the keys of the dictionary by the degree stored in the values.\"\"\"\n",
    "\n",
    "# Here I have represented the graph in adjacency list format  \n",
    "graph = {\n",
    "    'A': ['B', 'C'],\n",
    "    'B': ['A', 'C', 'D'],\n",
    "    'C': ['A', 'B'],\n",
    "    'D': ['B']\n",
    "}\n",
    "degree_dict = {} #created a empty dictionary to store the degree of each vertex\n",
    "\n",
    "for vertex in graph: #counting the degree of every vertex\n",
    "    degree_dict[vertex] = len(graph[vertex])  # total numbers of neighbour = degree of vertex\n",
    "\n",
    "# sorting the dictionary keys on the basis of degree \n",
    "sorted_keys = sorted(degree_dict, key=lambda x: degree_dict[x]) # here sorted_keys is the list of sorted vertex\n",
    "\n",
    "print(\"Vertex degrees:\") # printing the outputs\n",
    "for vertex in degree_dict: \n",
    "    print(f\"{vertex}: {degree_dict[vertex]}\")\n",
    "\n",
    "print(\"Vertices sorted by degree:\")\n",
    "for vertex in sorted_keys:\n",
    "    print(vertex)\n",
    "\n",
    "print(degree_dict)"
   ]
  },
  {
   "cell_type": "code",
   "execution_count": null,
   "id": "b79e0fe9",
   "metadata": {},
   "outputs": [
    {
     "name": "stdout",
     "output_type": "stream",
     "text": [
      "Adjacency List:\n",
      "{'A': ['B', 'C'], 'B': ['A', 'C'], 'C': ['A', 'B', 'D'], 'D': ['C']}\n",
      "Adjacency Matrix:\n",
      "[0, 1, 1, 0]\n",
      "[1, 0, 1, 0]\n",
      "[1, 1, 0, 1]\n",
      "[0, 0, 1, 0]\n",
      "Edge List:\n",
      "[('A', 'B'), ('A', 'C'), ('B', 'C'), ('C', 'D')]\n",
      "Edge List to Adjacency List:\n",
      "{'A': ['B', 'C'], 'B': ['A', 'C'], 'C': ['A', 'B', 'D'], 'D': ['C']}\n",
      " Matrix to Adjacency List:\n",
      "{'A': ['B', 'C'], 'B': ['A', 'C'], 'C': ['A', 'B', 'D'], 'D': ['C']}\n"
     ]
    }
   ],
   "source": [
    "'''Write a code to inter-convert the 3 graph representations we have learnt.'''\n",
    "\n",
    "# Sample graph as Adjacency List\n",
    "adj_list = {\n",
    "    'A': ['B', 'C'],\n",
    "    'B': ['A', 'C'],\n",
    "    'C': ['A', 'B', 'D'],\n",
    "    'D': ['C']\n",
    "}\n",
    "\n",
    "# Function: Adjacency List to Adjacency Matrix\n",
    "def adj_list_to_matrix(adj_list):\n",
    "    # the list of vertices from the adjacency list\n",
    "    vertices = list(adj_list.keys())\n",
    "    size = len(vertices)  # The number of vertices\n",
    "    matrix = [[0]*size for _ in range(size)]\n",
    "\n",
    "    #filling the matrix with 1s where an edge exist between two vertices\n",
    "    for i in range(size):\n",
    "        for j in range(size):\n",
    "            if vertices[j] in adj_list[vertices[i]]:\n",
    "                matrix[i][j] = 1  # storing 1s \n",
    "\n",
    "    #returning the list of vertices and the adjacency matrix\n",
    "    return vertices, matrix\n",
    "\n",
    "#Function: Adjacency List to Edge List\n",
    "def adj_list_to_edge_list(adj_list):\n",
    "    edges = []  # list to store edges\n",
    "    \n",
    "    #loop through each vertex and its neighbors in the adjacency list\n",
    "    for u in adj_list:\n",
    "        for v in adj_list[u]:\n",
    "            #for an undirected graph, avoid duplicate edges (u, v) and (v, u)....\n",
    "            if (v, u) not in edges:  #check for reverse direction to avoid duplicates\n",
    "                edges.append((u, v))  #add the edge (u, v) to the list\n",
    "\n",
    "    #returning the edge list\n",
    "    return edges\n",
    "\n",
    "#function: Edge List to Adjacency List\n",
    "def edge_list_to_adj_list(edge_list):\n",
    "    adj = {}  #dictionary to store adjacency list\n",
    "    \n",
    "    #loop through each edge:\n",
    "    for u, v in edge_list:\n",
    "        if u not in adj:\n",
    "            adj[u] = []  # If u is not in adj,then: add it in an empty list\n",
    "        if v not in adj:\n",
    "            adj[v] = []  # If v is not in adj,then: add it in an empty list\n",
    "        \n",
    "        #adding v to the adjacency list of u, and u to the adjacency list of v\n",
    "        adj[u].append(v)\n",
    "        adj[v].append(u)\n",
    "    \n",
    "    #returning the adjacency list \n",
    "    return adj\n",
    "\n",
    "#function: Adjacency Matrix to adjacency List\n",
    "def matrix_to_adj_list(vertices, matrix):\n",
    "    adj = {}  #dictionary to store adjacency list\n",
    "    \n",
    "    #loop through the matrix to create the adjacency list\n",
    "    for i in range(len(vertices)):\n",
    "        adj[vertices[i]] = []  # creating each vertex with an empty list\n",
    "        \n",
    "        for j in range(len(vertices)):\n",
    "            if matrix[i][j] == 1:  #if there's an edge between vertices[i] and vertices[j]\n",
    "                adj[vertices[i]].append(vertices[j])  #add the connected vertex to the adjacency list\n",
    "\n",
    "    #returning the adjacency list\n",
    "    return adj\n",
    "\n",
    "# Examples\n",
    "print(\"Adjacency List:\")\n",
    "print(adj_list) \n",
    "\n",
    "#convert to Matrix\n",
    "vertices, matrix = adj_list_to_matrix(adj_list)\n",
    "print(\"Adjacency Matrix:\")\n",
    "for row in matrix:\n",
    "    print(row)  \n",
    "\n",
    "#convert to Edge List\n",
    "edge_list = adj_list_to_edge_list(adj_list)\n",
    "print(\"Edge List:\")\n",
    "print(edge_list)  # Print the edge list\n",
    "\n",
    "print(\"Edge List to Adjacency List:\")\n",
    "print(edge_list_to_adj_list(edge_list))  #convert the edge list back to adjacency list\n",
    "\n",
    "print(\"Matrix to Adjacency List:\")\n",
    "print(matrix_to_adj_list(vertices, matrix))  #convert the matrix back to adjacency list\n"
   ]
  },
  {
   "cell_type": "code",
   "execution_count": 8,
   "id": "104a2956",
   "metadata": {},
   "outputs": [
    {
     "name": "stdout",
     "output_type": "stream",
     "text": [
      "A and B are adjacent  \n"
     ]
    }
   ],
   "source": [
    "\"\"\"Given a graph and two vertices, check if they are adjacent\"\"\"\n",
    "\n",
    "#sample graph\n",
    "graph = {\n",
    "    'A': ['B', 'C'],\n",
    "    'B': ['A', 'D'],\n",
    "    'C': ['A'],\n",
    "    'D': ['B']\n",
    "}\n",
    "\n",
    "#function to check adjacency between two vertices\n",
    "def are_adjacent(graph, u, v):\n",
    "    if u in graph and v in graph[u]: #checking if v vertex is inside u neighbour's list\n",
    "        return True\n",
    "    else:\n",
    "        return False\n",
    "\n",
    "#checking...\n",
    "vertex1 = 'A'\n",
    "vertex2 = 'B'\n",
    "\n",
    "#printing the results\n",
    "if are_adjacent(graph, vertex1, vertex2):\n",
    "    print(f\"{vertex1} and {vertex2} are adjacent  \")\n",
    "else:\n",
    "    print(f\"{vertex1} and {vertex2} are not adjacent\")\n"
   ]
  },
  {
   "cell_type": "code",
   "execution_count": null,
   "id": "c02f2292",
   "metadata": {},
   "outputs": [
    {
     "name": "stdout",
     "output_type": "stream",
     "text": [
      "Graph is complete.\n"
     ]
    }
   ],
   "source": [
    "\"\"\"Check if a graph is complete.\"\"\"\n",
    "\n",
    "#sample graph\n",
    "graph = {\n",
    "    'A': ['B', 'C'],\n",
    "    'B': ['A', 'C'],\n",
    "    'C': ['A', 'B']\n",
    "}\n",
    "\n",
    "#function to check if graph is complete or not:\n",
    "def is_complete_graph(graph):\n",
    "    vertices = list(graph.keys())  # list of all vertices \n",
    "\n",
    "    for vertex in vertices:\n",
    "        #checking the lenth of every neighbours vertex\n",
    "        #for complete graph, vertex should have an edge with every vertices\n",
    "        if len(graph[vertex]) != len(vertices) - 1:\n",
    "            return False  # if a vvertex having a less degree, then it is not complete\n",
    "\n",
    "    return True  #every vertices have the same degree, then it is complete\n",
    "\n",
    "#check and print result\n",
    "if is_complete_graph(graph):\n",
    "    print(\"Graph is complete.\")\n",
    "else:\n",
    "    print(\"Graph is not complete\")\n"
   ]
  },
  {
   "cell_type": "code",
   "execution_count": 13,
   "id": "41431e53",
   "metadata": {},
   "outputs": [
    {
     "name": "stdout",
     "output_type": "stream",
     "text": [
      "Graph is not connected \n"
     ]
    }
   ],
   "source": [
    "\"\"\"Check if a graph is connected.\"\"\"\n",
    "\n",
    "#sample Graph\n",
    "graph = {\n",
    "    'A': ['B'],\n",
    "    'B': ['A', 'C'],\n",
    "    'C': ['B'],\n",
    "    'D': []  # D is disconnected\n",
    "}\n",
    "\n",
    "#function to check if the graph is connected...\n",
    "def is_connected(graph):\n",
    "    vertices = list(graph.keys())  #all vertices\n",
    "    visited = set()  #to track visited vertices\n",
    "\n",
    "    #start with any vertex\n",
    "    start = vertices[0]\n",
    "    visited.add(start)\n",
    "\n",
    "    #manually checking all direct connections\n",
    "    #iterating through all neighbours of the starting vertex\n",
    "    for neighbour in graph[start]:\n",
    "        if neighbour not in visited:\n",
    "            visited.add(neighbour)\n",
    "\n",
    "    #if all vertices are visited, the graph is connected\n",
    "    return len(visited) == len(vertices)\n",
    "\n",
    "#check and print result\n",
    "if is_connected(graph):\n",
    "    print(\"Graph is connected\")\n",
    "else:\n",
    "    print(\"Graph is not connected \")\n"
   ]
  },
  {
   "cell_type": "code",
   "execution_count": 2,
   "id": "f258630b",
   "metadata": {},
   "outputs": [],
   "source": [
    "\"\"\"Given a graph and a list of vertices, check if it forms a walk, or a trail or a path or none of these.\"\"\"\n",
    "\n",
    "#sample graph (undirected graph)\n",
    "graph = {\n",
    "    'A': ['B', 'C'],\n",
    "    'B': ['A', 'C', 'D'],\n",
    "    'C': ['A', 'B'],\n",
    "    'D': ['B']\n",
    "}\n",
    "\n"
   ]
  },
  {
   "cell_type": "code",
   "execution_count": null,
   "id": "15bfebf8",
   "metadata": {},
   "outputs": [
    {
     "name": "stdout",
     "output_type": "stream",
     "text": [
      "Graph is a tree\n"
     ]
    }
   ],
   "source": [
    "\"\"\"Check if a given graph is a tree.\"\"\"\n",
    "\n",
    "# Sample graph\n",
    "graph = {\n",
    "    'A': ['B', 'C'],\n",
    "    'B': ['A', 'D'],\n",
    "    'C': ['A'],\n",
    "    'D': ['B']\n",
    "}\n",
    "\n",
    "#function to check if a graph is a tree or not\n",
    "def is_tree(graph):\n",
    "    vertices = list(graph.keys())  # all vertices in the graph\n",
    "    num_vertices = len(vertices)   # number of vertices\n",
    "    num_edges = 0\n",
    "\n",
    "    #counting the total number of edges by iterating through each vertex's neighbors\n",
    "    for vertex in graph:\n",
    "        num_edges += len(graph[vertex])\n",
    "\n",
    "    #since the graph is undirected, each edge is counted twice, so divide by 2\n",
    "    num_edges //= 2\n",
    "\n",
    "    # Case 1: The graph must have exactly V - 1 edges\n",
    "    if num_edges != num_vertices - 1:\n",
    "        return False\n",
    "\n",
    "    # Case 2: The graph must be connected\n",
    "    visited = set()  #track visited nodes\n",
    "    queue = [vertices[0]]  #start from any vertex\n",
    "\n",
    "    while queue:\n",
    "        vertex = queue.pop(0)\n",
    "        if vertex not in visited:\n",
    "            visited.add(vertex)\n",
    "            for neighbour in graph[vertex]:\n",
    "                if neighbour not in visited:\n",
    "                    queue.append(neighbour)\n",
    "\n",
    "    #if all vertices are visited, it means the graph is connected\n",
    "    return len(visited) == num_vertices\n",
    "\n",
    "# Check and print result\n",
    "if is_tree(graph):\n",
    "    print(\"Graph is a tree\")\n",
    "else:\n",
    "    print(\"Graph is not a tree.\")\n"
   ]
  },
  {
   "cell_type": "code",
   "execution_count": null,
   "id": "ba86ef6a",
   "metadata": {},
   "outputs": [],
   "source": [
    "\"\"\"Given a connected cyclic graph, find its spanning tree.\"\"\""
   ]
  },
  {
   "cell_type": "code",
   "execution_count": 3,
   "id": "7d5969e4",
   "metadata": {},
   "outputs": [
    {
     "name": "stdout",
     "output_type": "stream",
     "text": [
      "Number of leaf nodes: 3\n"
     ]
    }
   ],
   "source": [
    "# Sample tree\n",
    "tree = {\n",
    "    'A': ['B', 'C'],\n",
    "    'B': ['D', 'E'],\n",
    "    'C': [],\n",
    "    'D': [],\n",
    "    'E': []\n",
    "}\n",
    "\n",
    "#function to count the number of leaf nodes\n",
    "def count_leaf_nodes(tree):\n",
    "    leaf_count = 0\n",
    "    for node in tree:# loop through each node in the tree\n",
    "        if not tree[node]:#if a node has no children, it's a leaf node\n",
    "            leaf_count += 1\n",
    "\n",
    "    return leaf_count\n",
    "leaf_nodes = count_leaf_nodes(tree) \n",
    "\n",
    "#displaying the result\n",
    "print(f\"Number of leaf nodes: {leaf_nodes}\")\n"
   ]
  },
  {
   "cell_type": "code",
   "execution_count": 4,
   "id": "2920bd0e",
   "metadata": {},
   "outputs": [
    {
     "name": "stdout",
     "output_type": "stream",
     "text": [
      "This is a binary tree.\n"
     ]
    }
   ],
   "source": [
    "\"\"\"Given a tree, check if it's a binary tree\"\"\"\n",
    "\n",
    "#sample ree\n",
    "tree = {\n",
    "    'A': ['B', 'C'],\n",
    "    'B': ['D', 'E'],\n",
    "    'C': [],\n",
    "    'D': [],\n",
    "    'E': []\n",
    "}\n",
    "\n",
    "#function to check if a tree is a binary tree\n",
    "def is_binary_tree(tree):\n",
    "    for node, children in tree.items(): #traverse each node in the tree\n",
    "        if len(children) > 2:#check if the node has more than two children\n",
    "            return False #if a node has more than 2 children, it's not a binary tree\n",
    "    return True  #if no node has more than 2 children, it is a binary tree\n",
    "\n",
    "#check if the tree is a binary tree\n",
    "if is_binary_tree(tree):\n",
    "    print(\"This is a binary tree.\")\n",
    "else:\n",
    "    print(\"This is not a binary tree.\")\n"
   ]
  },
  {
   "cell_type": "code",
   "execution_count": null,
   "id": "087bb8d7",
   "metadata": {},
   "outputs": [
    {
     "name": "stdout",
     "output_type": "stream",
     "text": [
      "The height of node A is: 2\n"
     ]
    }
   ],
   "source": [
    "\"\"\"Given a tree and a node, find its height.\"\"\"\n",
    "\n",
    "#sample ree\n",
    "tree = {\n",
    "    'A': ['B', 'C'],\n",
    "    'B': ['D', 'E'],\n",
    "    'C': [],\n",
    "    'D': [],\n",
    "    'E': []\n",
    "}\n",
    "\n",
    "#function to find the height of a given node\n",
    "def find_height(tree, node):\n",
    "    #if the node has no children\n",
    "    if not tree.get(node):  #no children in the node\n",
    "        return 0\n",
    "    heights = [] #height of the child\n",
    "    for child in tree[node]:\n",
    "        heights.append(find_height(tree, child))\n",
    "    return max(heights) + 1 #the height of the current node is the max height of its children + 1\n",
    "\n",
    "#get the height of a specific node\n",
    "node = 'A'\n",
    "height = find_height(tree, node)\n",
    "\n",
    "#displaying the result\n",
    "print(f\"The height of node {node} is: {height}\")\n",
    "\n"
   ]
  },
  {
   "cell_type": "code",
   "execution_count": 5,
   "id": "042fe0a8",
   "metadata": {},
   "outputs": [
    {
     "name": "stdout",
     "output_type": "stream",
     "text": [
      "The depth of node D is: 2\n"
     ]
    }
   ],
   "source": [
    "\"\"\"Given a tree and a node, find its depth.\"\"\"\n",
    "\n",
    "#sample tree \n",
    "tree = {\n",
    "    'A': ['B', 'C'],\n",
    "    'B': ['D', 'E'],\n",
    "    'C': [],\n",
    "    'D': [],\n",
    "    'E': []\n",
    "}\n",
    "#function to find the depth of a given node\n",
    "def find_depth(tree, current_node, target_node, depth=0):\n",
    "    if current_node == target_node: #if the current node is the target node, return the current depth\n",
    "        return depth\n",
    "    for child in tree.get(current_node, []):#if the node has children, search in the child nodes\n",
    "        result = find_depth(tree, child, target_node, depth + 1)\n",
    "        if result != -1:  #if the node is found, return the result\n",
    "            return result\n",
    "    return -1 #else return -1\n",
    "#get the depth of a specific node\n",
    "target_node = 'D'\n",
    "depth = find_depth(tree, 'A', target_node)\n",
    "\n",
    "#displaying the result\n",
    "if depth != -1:\n",
    "    print(f\"The depth of node {target_node} is: {depth}\")\n",
    "else:\n",
    "    print(f\"Node {target_node} not found in the tree.\")\n"
   ]
  },
  {
   "cell_type": "code",
   "execution_count": null,
   "id": "01d09dd8",
   "metadata": {},
   "outputs": [],
   "source": []
  }
 ],
 "metadata": {
  "kernelspec": {
   "display_name": "Python 3",
   "language": "python",
   "name": "python3"
  },
  "language_info": {
   "codemirror_mode": {
    "name": "ipython",
    "version": 3
   },
   "file_extension": ".py",
   "mimetype": "text/x-python",
   "name": "python",
   "nbconvert_exporter": "python",
   "pygments_lexer": "ipython3",
   "version": "3.13.1"
  }
 },
 "nbformat": 4,
 "nbformat_minor": 5
}
